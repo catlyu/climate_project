{
 "cells": [
  {
   "cell_type": "code",
   "execution_count": 29,
   "id": "64dd3516-0b06-4471-8e5c-0a86205c0aab",
   "metadata": {},
   "outputs": [],
   "source": [
    "from tqdm import tqdm\n",
    "import pandas as pd\n",
    "import numpy as np\n",
    "import seaborn as sns\n",
    "import matplotlib.pyplot as plt\n",
    "\n",
    "from sklearn.model_selection import train_test_split\n",
    "from sklearn.linear_model import LinearRegression\n",
    "from sklearn.metrics import mean_squared_error\n",
    "from sklearn.metrics import r2_score\n",
    "from sklearn.ensemble import RandomForestRegressor\n",
    "from sklearn.preprocessing import PolynomialFeatures\n",
    "from sklearn.pipeline import make_pipeline\n",
    "from tensorflow.keras.models import Sequential\n",
    "from tensorflow.keras.layers import Dense"
   ]
  },
  {
   "cell_type": "code",
   "execution_count": 11,
   "id": "1cab5a86-e9b5-4881-a980-97568a9982fa",
   "metadata": {},
   "outputs": [],
   "source": [
    "combined_clean = pd.read_csv('combined_clean.csv')\n",
    "combined_clean = combined_clean.dropna()"
   ]
  },
  {
   "cell_type": "code",
   "execution_count": 12,
   "id": "763df35d-4065-40e7-89ea-6ac40f9a971b",
   "metadata": {},
   "outputs": [],
   "source": [
    "X = combined_clean[['Mean_Temp', 'Var_Temp', 'Extreme_Hot_Freq', 'Extreme_Cold_Freq', 'Mean_Range']]\n",
    "y = combined_clean['CRI_Score']\n",
    "X_train, X_test, y_train, y_test = train_test_split(X, y, test_size=0.2, random_state=42)"
   ]
  },
  {
   "cell_type": "markdown",
   "id": "d5bc59d5-0af4-4f74-8e41-a0aad0699b35",
   "metadata": {},
   "source": [
    "Model 1: Linear Regression"
   ]
  },
  {
   "cell_type": "code",
   "execution_count": 20,
   "id": "0a38b7a3-f100-4a41-b78a-28e84c8f1d5d",
   "metadata": {},
   "outputs": [
    {
     "name": "stdout",
     "output_type": "stream",
     "text": [
      "Linear Regression Mean Squared Error: 1125.6701812173835\n",
      "Linear Regression R² Score: -0.04534078628649141\n"
     ]
    }
   ],
   "source": [
    "model = LinearRegression()\n",
    "model.fit(X_train, y_train)\n",
    "predictions = model.predict(X_test)\n",
    "lr_mse = mean_squared_error(y_test, predictions)\n",
    "lr_r2 = r2_score(y_test, predictions)\n",
    "print(\"Linear Regression Mean Squared Error:\", mse)\n",
    "print(\"Linear Regression R² Score:\", r2)"
   ]
  },
  {
   "cell_type": "markdown",
   "id": "3688ce46-4e5b-4353-87b4-f3f63988edcd",
   "metadata": {},
   "source": [
    "Model 2: Random Forest"
   ]
  },
  {
   "cell_type": "code",
   "execution_count": 21,
   "id": "08a76ac9-d340-4e4f-bbc0-429b907e98dd",
   "metadata": {},
   "outputs": [
    {
     "name": "stdout",
     "output_type": "stream",
     "text": [
      "Random Forest Mean Squared Error: 778.3666937258334\n",
      "Random Forest R² Score: 0.27717863969832746\n"
     ]
    }
   ],
   "source": [
    "rf_model = RandomForestRegressor(n_estimators=100, random_state=42)\n",
    "rf_model.fit(X_train, y_train)\n",
    "rf_predictions = rf_model.predict(X_test)\n",
    "rf_mse = mean_squared_error(y_test, rf_predictions)\n",
    "rf_r2_score = rf_model.score(X_test, y_test)\n",
    "print(\"Random Forest Mean Squared Error:\", rf_mse)\n",
    "print(\"Random Forest R² Score:\", rf_r2_score)"
   ]
  },
  {
   "cell_type": "markdown",
   "id": "06e4a1a9-d8e8-463e-9112-dfe508737983",
   "metadata": {},
   "source": [
    "Model 3: Random Forest with Feature Selection"
   ]
  },
  {
   "cell_type": "code",
   "execution_count": 23,
   "id": "655a9774-fb70-4a05-bbc6-91fe4536c055",
   "metadata": {},
   "outputs": [
    {
     "name": "stdout",
     "output_type": "stream",
     "text": [
      "Random Forest with Degree 2 Mean Squared Error: 1090.0047178066668\n",
      "Random Forest with Degree 2 R² Score: -0.01222046011358846\n"
     ]
    }
   ],
   "source": [
    "deg = 2\n",
    "poly = PolynomialFeatures(degree=deg, include_bias=False)\n",
    "rf_pipeline = make_pipeline(poly, RandomForestRegressor(n_estimators=100, random_state=42))\n",
    "rf_pipeline.fit(X_train, y_train)\n",
    "y_pred = rf_pipeline.predict(X_test)\n",
    "rf_feature_mse = mean_squared_error(y_test, y_pred)\n",
    "rf_feature_r2 = r2_score(y_test, y_pred)\n",
    "print(f\"Random Forest with Degree {deg} Mean Squared Error:\", rf_feature_mse)\n",
    "print(f\"Random Forest with Degree {deg} R² Score:\", rf_feature_r2)"
   ]
  },
  {
   "cell_type": "code",
   "execution_count": 24,
   "id": "cf52402a-7af3-420c-89a7-891c516cb05c",
   "metadata": {},
   "outputs": [
    {
     "name": "stdout",
     "output_type": "stream",
     "text": [
      "Random Forest with Degree 3 Mean Squared Error: 940.6549288525001\n",
      "Random Forest with Degree 3 R² Score: 0.12647151949293267\n"
     ]
    }
   ],
   "source": [
    "deg = 3\n",
    "poly = PolynomialFeatures(degree=deg, include_bias=False)\n",
    "rf_pipeline = make_pipeline(poly, RandomForestRegressor(n_estimators=100, random_state=42))\n",
    "rf_pipeline.fit(X_train, y_train)\n",
    "y_pred = rf_pipeline.predict(X_test)\n",
    "rf_feature_mse = mean_squared_error(y_test, y_pred)\n",
    "rf_feature_r2 = r2_score(y_test, y_pred)\n",
    "print(f\"Random Forest with Degree {deg} Mean Squared Error:\", rf_feature_mse)\n",
    "print(f\"Random Forest with Degree {deg} R² Score:\", rf_feature_r2)"
   ]
  },
  {
   "cell_type": "code",
   "execution_count": 25,
   "id": "e723ca91-fa93-4116-98cc-61eb64ffda31",
   "metadata": {},
   "outputs": [
    {
     "name": "stdout",
     "output_type": "stream",
     "text": [
      "Random Forest with Degree 4 Mean Squared Error: 837.4696180541669\n",
      "Random Forest with Degree 4 R² Score: 0.22229338252433473\n"
     ]
    }
   ],
   "source": [
    "deg = 4\n",
    "poly = PolynomialFeatures(degree=deg, include_bias=False)\n",
    "rf_pipeline = make_pipeline(poly, RandomForestRegressor(n_estimators=100, random_state=42))\n",
    "rf_pipeline.fit(X_train, y_train)\n",
    "y_pred = rf_pipeline.predict(X_test)\n",
    "rf_feature_mse = mean_squared_error(y_test, y_pred)\n",
    "rf_feature_r2 = r2_score(y_test, y_pred)\n",
    "print(f\"Random Forest with Degree {deg} Mean Squared Error:\", rf_feature_mse)\n",
    "print(f\"Random Forest with Degree {deg} R² Score:\", rf_feature_r2)"
   ]
  },
  {
   "cell_type": "code",
   "execution_count": 28,
   "id": "08249651-ae92-4e96-8092-957c8ddb90c3",
   "metadata": {},
   "outputs": [
    {
     "name": "stdout",
     "output_type": "stream",
     "text": [
      "Random Forest with Degree 5 Mean Squared Error: 889.7727889700003\n",
      "Random Forest with Degree 5 R² Score: 0.17372263887071426\n"
     ]
    }
   ],
   "source": [
    "deg = 5\n",
    "poly = PolynomialFeatures(degree=deg, include_bias=False)\n",
    "rf_pipeline = make_pipeline(poly, RandomForestRegressor(n_estimators=100, random_state=42))\n",
    "rf_pipeline.fit(X_train, y_train)\n",
    "y_pred = rf_pipeline.predict(X_test)\n",
    "rf_feature_mse = mean_squared_error(y_test, y_pred)\n",
    "rf_feature_r2 = r2_score(y_test, y_pred)\n",
    "print(f\"Random Forest with Degree {deg} Mean Squared Error:\", rf_feature_mse)\n",
    "print(f\"Random Forest with Degree {deg} R² Score:\", rf_feature_r2)"
   ]
  },
  {
   "cell_type": "markdown",
   "id": "47edbacb-992a-4ff2-b666-8c0e2da74fd7",
   "metadata": {},
   "source": [
    "Model 4: Simple Neural Network"
   ]
  },
  {
   "cell_type": "code",
   "execution_count": 32,
   "id": "1536941d-a537-4faf-aa08-4e01587d848b",
   "metadata": {},
   "outputs": [
    {
     "name": "stdout",
     "output_type": "stream",
     "text": [
      "Epoch 1/100\n",
      "2/2 [==============================] - 0s 112ms/step - loss: 8121.7769 - val_loss: 6694.8545\n",
      "Epoch 2/100\n",
      "1/2 [==============>...............] - ETA: 0s - loss: 6732.2441"
     ]
    },
    {
     "name": "stderr",
     "output_type": "stream",
     "text": [
      "2023-12-22 10:44:35.637855: I tensorflow/core/grappler/optimizers/custom_graph_optimizer_registry.cc:114] Plugin optimizer for device_type GPU is enabled.\n",
      "2023-12-22 10:44:35.792970: I tensorflow/core/grappler/optimizers/custom_graph_optimizer_registry.cc:114] Plugin optimizer for device_type GPU is enabled.\n"
     ]
    },
    {
     "name": "stdout",
     "output_type": "stream",
     "text": [
      "2/2 [==============================] - 0s 19ms/step - loss: 6863.8682 - val_loss: 5684.0659\n",
      "Epoch 3/100\n",
      "2/2 [==============================] - 0s 20ms/step - loss: 5851.5688 - val_loss: 4856.7178\n",
      "Epoch 4/100\n",
      "2/2 [==============================] - 0s 19ms/step - loss: 5053.7842 - val_loss: 4150.3608\n",
      "Epoch 5/100\n",
      "2/2 [==============================] - 0s 19ms/step - loss: 4390.3970 - val_loss: 3525.7996\n",
      "Epoch 6/100\n",
      "2/2 [==============================] - 0s 20ms/step - loss: 3865.2908 - val_loss: 2969.4172\n",
      "Epoch 7/100\n",
      "2/2 [==============================] - 0s 18ms/step - loss: 3385.3977 - val_loss: 2478.9114\n",
      "Epoch 8/100\n",
      "2/2 [==============================] - 0s 18ms/step - loss: 3012.3777 - val_loss: 2058.3943\n",
      "Epoch 9/100\n",
      "2/2 [==============================] - 0s 19ms/step - loss: 2677.4504 - val_loss: 1701.6420\n",
      "Epoch 10/100\n",
      "2/2 [==============================] - 0s 20ms/step - loss: 2442.4080 - val_loss: 1393.3661\n",
      "Epoch 11/100\n",
      "2/2 [==============================] - 0s 19ms/step - loss: 2243.3918 - val_loss: 1135.2976\n",
      "Epoch 12/100\n",
      "2/2 [==============================] - 0s 18ms/step - loss: 2125.1875 - val_loss: 923.8293\n",
      "Epoch 13/100\n",
      "2/2 [==============================] - 0s 19ms/step - loss: 2085.7664 - val_loss: 779.7502\n",
      "Epoch 14/100\n",
      "2/2 [==============================] - 0s 19ms/step - loss: 2045.7496 - val_loss: 692.7014\n",
      "Epoch 15/100\n",
      "2/2 [==============================] - 0s 19ms/step - loss: 2026.3091 - val_loss: 635.3714\n",
      "Epoch 16/100\n",
      "2/2 [==============================] - 0s 20ms/step - loss: 2002.8666 - val_loss: 591.3939\n",
      "Epoch 17/100\n",
      "2/2 [==============================] - 0s 19ms/step - loss: 1985.8303 - val_loss: 559.6785\n",
      "Epoch 18/100\n",
      "2/2 [==============================] - 0s 19ms/step - loss: 1946.0455 - val_loss: 543.5438\n",
      "Epoch 19/100\n",
      "2/2 [==============================] - 0s 18ms/step - loss: 1897.4336 - val_loss: 538.9832\n",
      "Epoch 20/100\n",
      "2/2 [==============================] - 0s 19ms/step - loss: 1822.8759 - val_loss: 543.7332\n",
      "Epoch 21/100\n",
      "2/2 [==============================] - 0s 18ms/step - loss: 1754.4641 - val_loss: 553.3127\n",
      "Epoch 22/100\n",
      "2/2 [==============================] - 0s 18ms/step - loss: 1682.6183 - val_loss: 572.1772\n",
      "Epoch 23/100\n",
      "2/2 [==============================] - 0s 19ms/step - loss: 1617.1274 - val_loss: 608.1089\n",
      "Epoch 24/100\n",
      "2/2 [==============================] - 0s 18ms/step - loss: 1551.9209 - val_loss: 661.4654\n",
      "Epoch 25/100\n",
      "2/2 [==============================] - 0s 19ms/step - loss: 1499.3184 - val_loss: 725.3420\n",
      "Epoch 26/100\n",
      "2/2 [==============================] - 0s 19ms/step - loss: 1466.2526 - val_loss: 783.6345\n",
      "Epoch 27/100\n",
      "2/2 [==============================] - 0s 19ms/step - loss: 1438.2990 - val_loss: 823.0599\n",
      "Epoch 28/100\n",
      "2/2 [==============================] - 0s 20ms/step - loss: 1404.0271 - val_loss: 839.4660\n",
      "Epoch 29/100\n",
      "2/2 [==============================] - 0s 19ms/step - loss: 1369.4766 - val_loss: 843.7241\n",
      "Epoch 30/100\n",
      "2/2 [==============================] - 0s 19ms/step - loss: 1326.3221 - val_loss: 837.4700\n",
      "Epoch 31/100\n",
      "2/2 [==============================] - 0s 19ms/step - loss: 1293.8043 - val_loss: 831.7449\n",
      "Epoch 32/100\n",
      "2/2 [==============================] - 0s 18ms/step - loss: 1255.6091 - val_loss: 837.6718\n",
      "Epoch 33/100\n",
      "2/2 [==============================] - 0s 19ms/step - loss: 1231.7350 - val_loss: 851.5233\n",
      "Epoch 34/100\n",
      "2/2 [==============================] - 0s 19ms/step - loss: 1213.2125 - val_loss: 874.1420\n",
      "Epoch 35/100\n",
      "2/2 [==============================] - 0s 19ms/step - loss: 1206.3478 - val_loss: 908.0180\n",
      "Epoch 36/100\n",
      "2/2 [==============================] - 0s 18ms/step - loss: 1200.9194 - val_loss: 958.0710\n",
      "Epoch 37/100\n",
      "2/2 [==============================] - 0s 19ms/step - loss: 1198.4698 - val_loss: 1019.9811\n",
      "Epoch 38/100\n",
      "2/2 [==============================] - 0s 20ms/step - loss: 1185.0940 - val_loss: 1078.5348\n",
      "Epoch 39/100\n",
      "2/2 [==============================] - 0s 19ms/step - loss: 1168.3186 - val_loss: 1132.8666\n",
      "Epoch 40/100\n",
      "2/2 [==============================] - 0s 19ms/step - loss: 1161.4198 - val_loss: 1188.5226\n",
      "Epoch 41/100\n",
      "2/2 [==============================] - 0s 19ms/step - loss: 1151.5520 - val_loss: 1246.6404\n",
      "Epoch 42/100\n",
      "2/2 [==============================] - 0s 20ms/step - loss: 1144.1744 - val_loss: 1305.8362\n",
      "Epoch 43/100\n",
      "2/2 [==============================] - 0s 19ms/step - loss: 1130.9200 - val_loss: 1350.3755\n",
      "Epoch 44/100\n",
      "2/2 [==============================] - 0s 19ms/step - loss: 1127.9764 - val_loss: 1378.7800\n",
      "Epoch 45/100\n",
      "2/2 [==============================] - 0s 19ms/step - loss: 1128.7198 - val_loss: 1386.8964\n",
      "Epoch 46/100\n",
      "2/2 [==============================] - 0s 19ms/step - loss: 1124.0671 - val_loss: 1382.4062\n",
      "Epoch 47/100\n",
      "2/2 [==============================] - 0s 19ms/step - loss: 1124.3571 - val_loss: 1389.3518\n",
      "Epoch 48/100\n",
      "2/2 [==============================] - 0s 19ms/step - loss: 1122.7146 - val_loss: 1401.1602\n",
      "Epoch 49/100\n",
      "2/2 [==============================] - 0s 20ms/step - loss: 1119.5156 - val_loss: 1412.6769\n",
      "Epoch 50/100\n",
      "2/2 [==============================] - 0s 18ms/step - loss: 1119.3728 - val_loss: 1428.5668\n",
      "Epoch 51/100\n",
      "2/2 [==============================] - 0s 18ms/step - loss: 1125.1974 - val_loss: 1434.0006\n",
      "Epoch 52/100\n",
      "2/2 [==============================] - 0s 20ms/step - loss: 1123.3594 - val_loss: 1426.7694\n",
      "Epoch 53/100\n",
      "2/2 [==============================] - 0s 18ms/step - loss: 1118.9498 - val_loss: 1426.4879\n",
      "Epoch 54/100\n",
      "2/2 [==============================] - 0s 20ms/step - loss: 1120.5297 - val_loss: 1425.8951\n",
      "Epoch 55/100\n",
      "2/2 [==============================] - 0s 19ms/step - loss: 1118.9529 - val_loss: 1418.1267\n",
      "Epoch 56/100\n",
      "2/2 [==============================] - 0s 19ms/step - loss: 1115.9072 - val_loss: 1408.2878\n",
      "Epoch 57/100\n",
      "2/2 [==============================] - 0s 18ms/step - loss: 1115.6842 - val_loss: 1403.4642\n",
      "Epoch 58/100\n",
      "2/2 [==============================] - 0s 19ms/step - loss: 1112.3390 - val_loss: 1402.9266\n",
      "Epoch 59/100\n",
      "2/2 [==============================] - 0s 18ms/step - loss: 1111.9535 - val_loss: 1398.4425\n",
      "Epoch 60/100\n",
      "2/2 [==============================] - 0s 19ms/step - loss: 1111.2434 - val_loss: 1392.7604\n",
      "Epoch 61/100\n",
      "2/2 [==============================] - 0s 19ms/step - loss: 1110.7498 - val_loss: 1389.2111\n",
      "Epoch 62/100\n",
      "2/2 [==============================] - 0s 18ms/step - loss: 1108.4968 - val_loss: 1382.6790\n",
      "Epoch 63/100\n",
      "2/2 [==============================] - 0s 19ms/step - loss: 1109.0342 - val_loss: 1376.7147\n",
      "Epoch 64/100\n",
      "2/2 [==============================] - 0s 19ms/step - loss: 1110.8435 - val_loss: 1363.4368\n",
      "Epoch 65/100\n",
      "2/2 [==============================] - 0s 18ms/step - loss: 1109.5358 - val_loss: 1339.5543\n",
      "Epoch 66/100\n",
      "2/2 [==============================] - 0s 19ms/step - loss: 1108.3997 - val_loss: 1317.1591\n",
      "Epoch 67/100\n",
      "2/2 [==============================] - 0s 18ms/step - loss: 1110.4080 - val_loss: 1300.4335\n",
      "Epoch 68/100\n",
      "2/2 [==============================] - 0s 19ms/step - loss: 1119.1383 - val_loss: 1290.0155\n",
      "Epoch 69/100\n",
      "2/2 [==============================] - 0s 18ms/step - loss: 1122.7880 - val_loss: 1282.8235\n",
      "Epoch 70/100\n",
      "2/2 [==============================] - 0s 19ms/step - loss: 1116.4659 - val_loss: 1280.4302\n",
      "Epoch 71/100\n",
      "2/2 [==============================] - 0s 39ms/step - loss: 1111.4614 - val_loss: 1280.7578\n",
      "Epoch 72/100\n",
      "2/2 [==============================] - 0s 19ms/step - loss: 1102.7429 - val_loss: 1285.4703\n",
      "Epoch 73/100\n",
      "2/2 [==============================] - 0s 19ms/step - loss: 1101.7075 - val_loss: 1294.6248\n",
      "Epoch 74/100\n",
      "2/2 [==============================] - 0s 19ms/step - loss: 1100.5990 - val_loss: 1301.9492\n",
      "Epoch 75/100\n",
      "2/2 [==============================] - 0s 18ms/step - loss: 1099.7001 - val_loss: 1309.1510\n",
      "Epoch 76/100\n",
      "2/2 [==============================] - 0s 19ms/step - loss: 1099.6069 - val_loss: 1319.3228\n",
      "Epoch 77/100\n",
      "2/2 [==============================] - 0s 19ms/step - loss: 1097.1356 - val_loss: 1324.8906\n",
      "Epoch 78/100\n",
      "2/2 [==============================] - 0s 19ms/step - loss: 1093.7991 - val_loss: 1335.2604\n",
      "Epoch 79/100\n",
      "2/2 [==============================] - 0s 19ms/step - loss: 1096.7361 - val_loss: 1346.0536\n",
      "Epoch 80/100\n",
      "2/2 [==============================] - 0s 19ms/step - loss: 1093.6783 - val_loss: 1345.2369\n",
      "Epoch 81/100\n",
      "2/2 [==============================] - 0s 18ms/step - loss: 1093.2180 - val_loss: 1347.7712\n",
      "Epoch 82/100\n",
      "2/2 [==============================] - 0s 19ms/step - loss: 1096.8480 - val_loss: 1355.3119\n",
      "Epoch 83/100\n",
      "2/2 [==============================] - 0s 18ms/step - loss: 1100.2468 - val_loss: 1343.2898\n",
      "Epoch 84/100\n",
      "2/2 [==============================] - 0s 19ms/step - loss: 1098.3932 - val_loss: 1318.1984\n",
      "Epoch 85/100\n",
      "2/2 [==============================] - 0s 19ms/step - loss: 1091.1682 - val_loss: 1295.9534\n",
      "Epoch 86/100\n",
      "2/2 [==============================] - 0s 19ms/step - loss: 1090.9457 - val_loss: 1262.9971\n",
      "Epoch 87/100\n",
      "2/2 [==============================] - 0s 20ms/step - loss: 1087.3805 - val_loss: 1228.5352\n",
      "Epoch 88/100\n",
      "2/2 [==============================] - 0s 19ms/step - loss: 1090.1490 - val_loss: 1199.6033\n",
      "Epoch 89/100\n",
      "2/2 [==============================] - 0s 19ms/step - loss: 1090.2324 - val_loss: 1172.6527\n",
      "Epoch 90/100\n",
      "2/2 [==============================] - 0s 20ms/step - loss: 1090.6456 - val_loss: 1149.1969\n",
      "Epoch 91/100\n",
      "2/2 [==============================] - 0s 20ms/step - loss: 1094.1482 - val_loss: 1138.9346\n",
      "Epoch 92/100\n",
      "2/2 [==============================] - 0s 19ms/step - loss: 1089.0894 - val_loss: 1148.9021\n",
      "Epoch 93/100\n",
      "2/2 [==============================] - 0s 20ms/step - loss: 1094.7594 - val_loss: 1157.8839\n",
      "Epoch 94/100\n",
      "2/2 [==============================] - 0s 19ms/step - loss: 1097.3379 - val_loss: 1157.5938\n",
      "Epoch 95/100\n",
      "2/2 [==============================] - 0s 19ms/step - loss: 1098.0376 - val_loss: 1158.9465\n",
      "Epoch 96/100\n",
      "2/2 [==============================] - 0s 18ms/step - loss: 1097.2390 - val_loss: 1166.0153\n",
      "Epoch 97/100\n",
      "2/2 [==============================] - 0s 18ms/step - loss: 1096.1129 - val_loss: 1166.4341\n",
      "Epoch 98/100\n",
      "2/2 [==============================] - 0s 19ms/step - loss: 1096.0938 - val_loss: 1154.7869\n",
      "Epoch 99/100\n",
      "2/2 [==============================] - 0s 19ms/step - loss: 1093.2557 - val_loss: 1140.3147\n",
      "Epoch 100/100\n",
      "2/2 [==============================] - 0s 19ms/step - loss: 1089.4475 - val_loss: 1135.1738\n",
      "1/1 [==============================] - 0s 30ms/step\n",
      "Neural Network Mean Squared Error: 1685.6836635422776\n",
      "Neural Network R² Score: -0.5653909250504412\n"
     ]
    },
    {
     "name": "stderr",
     "output_type": "stream",
     "text": [
      "2023-12-22 10:44:38.370397: I tensorflow/core/grappler/optimizers/custom_graph_optimizer_registry.cc:114] Plugin optimizer for device_type GPU is enabled.\n"
     ]
    }
   ],
   "source": [
    "nn_model = Sequential()\n",
    "nn_model.add(Dense(128, input_dim=X_train.shape[1], activation='relu'))\n",
    "nn_model.add(Dense(64, activation='relu'))\n",
    "nn_model.add(Dense(1))\n",
    "nn_model.compile(optimizer='adam', loss='mse')\n",
    "nn_model.fit(X_train, y_train, epochs=100, batch_size=32, validation_split=0.2)\n",
    "y_pred = nn_model.predict(X_test)\n",
    "nn_mse = mean_squared_error(y_test, y_pred.flatten())\n",
    "nn_r2 = r2_score(y_test, y_pred.flatten())\n",
    "print(\"Neural Network Mean Squared Error:\", nn_mse)\n",
    "print(\"Neural Network R² Score:\", nn_r2)"
   ]
  },
  {
   "cell_type": "code",
   "execution_count": null,
   "id": "610c205e-bbcf-4410-ba73-400721a1fd18",
   "metadata": {},
   "outputs": [],
   "source": []
  }
 ],
 "metadata": {
  "kernelspec": {
   "display_name": "Python 3 (ipykernel)",
   "language": "python",
   "name": "python3"
  },
  "language_info": {
   "codemirror_mode": {
    "name": "ipython",
    "version": 3
   },
   "file_extension": ".py",
   "mimetype": "text/x-python",
   "name": "python",
   "nbconvert_exporter": "python",
   "pygments_lexer": "ipython3",
   "version": "3.9.12"
  }
 },
 "nbformat": 4,
 "nbformat_minor": 5
}
